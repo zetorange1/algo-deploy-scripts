{
 "cells": [
  {
   "cell_type": "code",
   "execution_count": 12,
   "id": "59516192-68c4-47a1-801e-528919df2220",
   "metadata": {},
   "outputs": [
    {
     "name": "stdout",
     "output_type": "stream",
     "text": [
      "Using python:3.8.8 | packaged by conda-forge | (default, Feb 20 2021, 16:22:27) \n",
      "[GCC 9.3.0]\n",
      "Using ocean_lib: 0.8.5\n"
     ]
    }
   ],
   "source": [
    "%reload_ext dotenv\n",
    "%dotenv\n",
    "config_file_path='./config-dataunion-mumbai.ini'\n",
    "import ocean_lib\n",
    "import sys\n",
    "import time\n",
    "import os\n",
    "from ocean_lib.config import Config\n",
    "from ocean_lib.ocean.ocean import Ocean\n",
    "from datetime import datetime\n",
    "from ocean_lib.web3_internal.currency import to_wei\n",
    "from ocean_lib.web3_internal.wallet import Wallet\n",
    "from ocean_lib.data_provider.data_service_provider import DataServiceProvider\n",
    "from ocean_lib.services.service import Service\n",
    "from ocean_lib.assets.asset_resolver import resolve_asset\n",
    "from ocean_lib.common.agreements.service_types import ServiceTypes\n",
    "from ocean_lib.assets.trusted_algorithms import add_publisher_trusted_algorithm\n",
    "\n",
    "print(f\"Using python:{sys.version}\")\n",
    "print(f\"Using ocean_lib: {ocean_lib.__version__}\")"
   ]
  },
  {
   "cell_type": "code",
   "execution_count": 19,
   "id": "603bc06a-5e73-4c34-883d-f8e5d498619d",
   "metadata": {},
   "outputs": [
    {
     "name": "stdout",
     "output_type": "stream",
     "text": [
      "config.network_url = 'https://rpc-mumbai.maticvigil.com'\n",
      "config.block_confirmations = 1\n",
      "config.metadata_cache_uri = 'https://aquarius.dataunion.market'\n",
      "config.provider_url = 'https://provider.dev.dataunion.market/'\n",
      "wallet.address = '0xdF1dEc52e602020E27B0644Ea0F584b6Eb5CE4eA'\n"
     ]
    }
   ],
   "source": [
    "config = Config(config_file_path)\n",
    "ocean = Ocean(config)\n",
    "provider_url = DataServiceProvider.get_url(ocean.config)\n",
    "\n",
    "print(f\"config.network_url = '{config.network_url}'\")\n",
    "print(f\"config.block_confirmations = {config.block_confirmations.value}\")\n",
    "print(f\"config.metadata_cache_uri = '{config.metadata_cache_uri}'\")\n",
    "print(f\"config.provider_url = '{config.provider_url}'\")\n",
    "\n",
    "# Create Alice's wallet\n",
    "alice_wallet = Wallet(\n",
    "    ocean.web3,\n",
    "    os.getenv('PRIVATE_KEY1'),\n",
    "    config.block_confirmations,\n",
    "    config.transaction_timeout,\n",
    ")\n",
    "\n",
    "bob_wallet = Wallet(\n",
    "    ocean.web3,\n",
    "    os.getenv('PRIVATE_KEY2'),\n",
    "    config.block_confirmations,\n",
    "    config.transaction_timeout,\n",
    ")\n",
    "print(f\"wallet.address = '{alice_wallet.address}'\")"
   ]
  },
  {
   "cell_type": "code",
   "execution_count": 20,
   "id": "bdedeace-eeee-4837-a1f2-f396d2229135",
   "metadata": {},
   "outputs": [],
   "source": [
    "DATA_did = 'did:op:4508E13742e8B3f105033498a9299866b0688488'  # for convenience\n",
    "ALG_did = 'did:op:9196BFBC51AD7617161b9a8ea867eDb5aECAc1F5'\n",
    "DATA_DDO = ocean.assets.resolve(DATA_did)  # make sure we operate on the updated and indexed metadata_cache_uri versions\n",
    "ALG_DDO = ocean.assets.resolve(ALG_did)"
   ]
  },
  {
   "cell_type": "code",
   "execution_count": 22,
   "id": "72cdcb3b-177c-4cbb-b35c-b0bc0e1d2d54",
   "metadata": {},
   "outputs": [
    {
     "ename": "AttributeError",
     "evalue": "'V3Asset' object has no attribute 'address'",
     "output_type": "error",
     "traceback": [
      "\u001b[0;31m---------------------------------------------------------------------------\u001b[0m",
      "\u001b[0;31mAttributeError\u001b[0m                            Traceback (most recent call last)",
      "\u001b[0;32m<ipython-input-22-71969b48fd22>\u001b[0m in \u001b[0;36m<module>\u001b[0;34m\u001b[0m\n\u001b[1;32m     45\u001b[0m     \u001b[0malgorithm_did\u001b[0m\u001b[0;34m=\u001b[0m\u001b[0mALG_did\u001b[0m\u001b[0;34m,\u001b[0m\u001b[0;34m\u001b[0m\u001b[0;34m\u001b[0m\u001b[0m\n\u001b[1;32m     46\u001b[0m     \u001b[0malgorithm_tx_id\u001b[0m\u001b[0;34m=\u001b[0m\u001b[0mALG_order_tx_id\u001b[0m\u001b[0;34m,\u001b[0m\u001b[0;34m\u001b[0m\u001b[0;34m\u001b[0m\u001b[0m\n\u001b[0;32m---> 47\u001b[0;31m     \u001b[0malgorithm_data_token\u001b[0m\u001b[0;34m=\u001b[0m\u001b[0mALG_DDO\u001b[0m\u001b[0;34m.\u001b[0m\u001b[0maddress\u001b[0m\u001b[0;34m,\u001b[0m\u001b[0;34m\u001b[0m\u001b[0;34m\u001b[0m\u001b[0m\n\u001b[0m\u001b[1;32m     48\u001b[0m     \u001b[0malgouserdata\u001b[0m\u001b[0;34m=\u001b[0m\u001b[0mcustom_data\u001b[0m\u001b[0;34m\u001b[0m\u001b[0;34m\u001b[0m\u001b[0m\n\u001b[1;32m     49\u001b[0m )\n",
      "\u001b[0;31mAttributeError\u001b[0m: 'V3Asset' object has no attribute 'address'"
     ]
    }
   ],
   "source": [
    "compute_service = DATA_DDO.get_service('compute')\n",
    "algo_service = ALG_DDO.get_service('access')\n",
    "\n",
    "from ocean_lib.web3_internal.constants import ZERO_ADDRESS\n",
    "from ocean_lib.models.compute_input import ComputeInput\n",
    "\n",
    "# order & pay for dataset\n",
    "dataset_order_requirements = ocean.assets.order(\n",
    "    DATA_did, bob_wallet.address, service_type=compute_service.type\n",
    ")\n",
    "DATA_order_tx_id = ocean.assets.pay_for_service(\n",
    "        ocean.web3,\n",
    "        dataset_order_requirements.amount,\n",
    "        dataset_order_requirements.data_token_address,\n",
    "        DATA_did,\n",
    "        compute_service.index,\n",
    "        ZERO_ADDRESS,\n",
    "        bob_wallet,\n",
    "        dataset_order_requirements.computeAddress,\n",
    "    )\n",
    "\n",
    "# order & pay for algo\n",
    "algo_order_requirements = ocean.assets.order(\n",
    "    ALG_did, bob_wallet.address, service_type=algo_service.type\n",
    ")\n",
    "ALG_order_tx_id = ocean.assets.pay_for_service(\n",
    "        ocean.web3,\n",
    "        algo_order_requirements.amount,\n",
    "        algo_order_requirements.data_token_address,\n",
    "        ALG_did,\n",
    "        algo_service.index,\n",
    "        ZERO_ADDRESS,\n",
    "        bob_wallet,\n",
    "        algo_order_requirements.computeAddress,\n",
    ")\n",
    "\n",
    "custom_data = {\n",
    "    'id': 'TdQovMPnnWPtvKE'\n",
    "}\n",
    "\n",
    "compute_inputs = [ComputeInput(DATA_did, DATA_order_tx_id, compute_service.index)]\n",
    "job_id = ocean.compute.start(\n",
    "    compute_inputs,\n",
    "    bob_wallet,\n",
    "    algorithm_did=ALG_did,\n",
    "    algorithm_tx_id=ALG_order_tx_id,\n",
    "    algorithm_data_token=ALG_DDO.address,\n",
    "    algouserdata=custom_data\n",
    ")\n",
    "print(f\"Started compute job with id: {job_id}\")"
   ]
  },
  {
   "cell_type": "code",
   "execution_count": null,
   "id": "bc79661c-c337-4e82-88c1-09c1214fd549",
   "metadata": {},
   "outputs": [],
   "source": [
    "ocean.compute.status(DATA_did, job_id, bob_wallet)"
   ]
  },
  {
   "cell_type": "code",
   "execution_count": null,
   "id": "18a7cd54-d110-4eed-99fb-5be51f21d669",
   "metadata": {},
   "outputs": [],
   "source": [
    "result = ocean.compute.result_file(DATA_did, job_id, 1, bob_wallet)  # 0 index, means we retrieve the results from the first dataset index\n",
    "print(result)"
   ]
  }
 ],
 "metadata": {
  "kernelspec": {
   "display_name": "Python 3",
   "language": "python",
   "name": "python3"
  },
  "language_info": {
   "codemirror_mode": {
    "name": "ipython",
    "version": 3
   },
   "file_extension": ".py",
   "mimetype": "text/x-python",
   "name": "python",
   "nbconvert_exporter": "python",
   "pygments_lexer": "ipython3",
   "version": "3.8.8"
  }
 },
 "nbformat": 4,
 "nbformat_minor": 5
}
